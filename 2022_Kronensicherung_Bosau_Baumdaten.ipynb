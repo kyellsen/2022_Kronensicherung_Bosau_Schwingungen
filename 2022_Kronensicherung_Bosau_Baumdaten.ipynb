{
 "cells": [
  {
   "cell_type": "markdown",
   "source": [
    "---\n",
    "title: \"2023_Kronensicherung_Bosau_Baumdaten\"\n",
    "author: \"Kyell Jensen\"\n",
    "date: \"2024-08-06\"\n",
    "format: pdf\n",
    "editor: visual\n",
    "---\n",
    "\n",
    "%load_ext autoreload\n",
    "%autoreload 2\n",
    "\n",
    "%aimport treemotion"
   ],
   "metadata": {
    "collapsed": false
   },
   "id": "e2a2a43557e44344"
  },
  {
   "cell_type": "markdown",
   "source": [
    "# 2023_Kronensicherung_Bosau_Baumdaten\n",
    "\n",
    "## Analyse der TreeMotionSensor-Daten"
   ],
   "metadata": {
    "collapsed": false
   },
   "id": "5fe5135aa0e908b"
  },
  {
   "cell_type": "markdown",
   "source": [
    "Nutze eine geeignete Python 3.11 Umgebung (z. B. virtuelle Environment) und installiere das Paket TreeMotion (TMS) inklusive kj_core und kj_logger und weiteren requirements."
   ],
   "metadata": {
    "collapsed": false
   },
   "id": "96bc2e35e8002ae1"
  },
  {
   "cell_type": "markdown",
   "source": [
    "## Package Importe\n",
    "\n",
    "Es werden zuerst benötigte Standard-Pakete importiert. Nachfolgend wird das extra erstellte TreeMotion-Package importiert. Fehler beim Import dieses Pakets sind ggf. Bugs. Das Paket nutzt eine gemeinsame CodeBasis in den Paketen kj_core (Core-Package) und kj_logger (individualisiertes Logging des Verarbeitungs-Prozesses). Diese sollte i. d. R. über die requirements mit installiert werden."
   ],
   "metadata": {
    "collapsed": false
   },
   "id": "33113e968d9e8e76"
  },
  {
   "cell_type": "markdown",
   "source": [
    "### Public imports\n"
   ],
   "metadata": {
    "collapsed": false
   },
   "id": "e8e24cda9b30243b"
  },
  {
   "cell_type": "code",
   "execution_count": 1,
   "outputs": [],
   "source": [
    "from pathlib import Path\n",
    "from datetime import datetime, time\n",
    "\n",
    "import numpy as np\n",
    "import pandas as pd"
   ],
   "metadata": {
    "collapsed": false,
    "ExecuteTime": {
     "end_time": "2025-05-07T13:44:13.913565Z",
     "start_time": "2025-05-07T13:44:13.886774Z"
    }
   },
   "id": "582969d193622b18"
  },
  {
   "cell_type": "markdown",
   "source": [
    "## Import TreeMotion-Package\n",
    "\n",
    "Das Paket TreeMotion (tms) wurde vom Autor (Kyell Jensen) zum einfachen Analysieren, Plotten und zur Interpretation der Messdaten der TreeMotionSensoren (Accelerometer/Inclinometer) der Firma \"IML Instrumenta Mechanik Labor Electronic\" (ehemals \"Argus Electronic\") geschrieben (https://www.iml-electronic.de/produkt/picus-treemotion/). Das Packet ist auf GitHub verfügbar (https://github.com/Kyellsen/treemotion). Die Messdaten der Geräte müssen für die Verarbeitung in Python erst in die Firmen eigene Software \"TMS.Software\" importiert werden. Von dort ist ein manueller Export in einem lesbaren CSV-Format möglich. Dieser Schritt lässt sich nicht automatisieren.\n",
    "Nachfolgend wird das Packet und einige dort definierten Klassen importiert."
   ],
   "metadata": {
    "collapsed": false
   },
   "id": "c50759e9f772deea"
  },
  {
   "cell_type": "code",
   "execution_count": 2,
   "outputs": [
    {
     "name": "stderr",
     "output_type": "stream",
     "text": [
      "2025-05-07 15:44:18 [\u001B[92mINFO\u001B[0m] treemotion.classes.project.<module>: TEAST\n"
     ]
    }
   ],
   "source": [
    "import treemotion as tms\n",
    "\n",
    "# Test\n",
    "# noinspection PyUnresolvedReferences\n",
    "from treemotion import Project, Series, Measurement, MeasurementVersion, DataTMS, DataMerge, Tree, TreeCable\n",
    "# noinspection PyUnresolvedReferences\n",
    "#from treemotion import CrownMotionSimilarity"
   ],
   "metadata": {
    "collapsed": false,
    "ExecuteTime": {
     "end_time": "2025-05-07T13:44:18.337283400Z",
     "start_time": "2025-05-07T13:44:13.902827800Z"
    }
   },
   "id": "cee8bac38cd2ea9f"
  },
  {
   "cell_type": "markdown",
   "source": [],
   "metadata": {
    "collapsed": false
   },
   "id": "4f147f86eff8ac8f"
  },
  {
   "cell_type": "markdown",
   "source": [
    "## Daten Importe\n",
    "\n",
    "Lege Pfade für Daten-Importe, Daten-Exporte etc. fest (ggf. anpassen an eigene Verzeichnisstruktur)"
   ],
   "metadata": {
    "collapsed": false
   },
   "id": "84dd70f8d73eadd6"
  },
  {
   "cell_type": "code",
   "execution_count": 3,
   "outputs": [],
   "source": [
    "# Main\n",
    "main_path = Path(r\"C:\\kyellsen\\005_Projekte\\2022_Bosau\")\n",
    "analyse_name = r\"2022_Kronensicherung_Bosau_2024-02-06\"\n",
    "data_path = main_path / \"021_Daten_Clean\"  # Für alle Daten-Importe des Projektes gemeinsam\n",
    "working_directory = main_path / \"030_Analysen\" / analyse_name / \"working_directory\"  # Für alle Daten-Exporte des Projektes gemeinsam\n",
    "db_name = \"TREEMOTION_Bosau_2023-05-12.db\"\n",
    "source_db = data_path / db_name\n",
    "csv_path = r\"C:\\kyellsen\\005_Projekte\\2022_Bosau\\020_Daten\""
   ],
   "metadata": {
    "collapsed": false,
    "ExecuteTime": {
     "end_time": "2025-05-07T13:44:18.345499100Z",
     "start_time": "2025-05-07T13:44:18.280484700Z"
    }
   },
   "id": "6354267940bf074"
  },
  {
   "cell_type": "markdown",
   "source": [
    "### Initialisieren des TreeMotionPackages\n",
    "\n",
    "Für die Funktionalität des TMS-Packages werden div. Instanzen von Manager-Klassen erstellt. Hierfür wird die 'tms.setup' Funktion verwendet. Sie liest die Default-Config des Packages und erstellt entsprechend angepasster Manager.  "
   ],
   "metadata": {
    "collapsed": false
   },
   "id": "60a7f89f4e216d81"
  },
  {
   "cell_type": "code",
   "execution_count": 4,
   "outputs": [
    {
     "name": "stderr",
     "output_type": "stream",
     "text": [
      "2025-05-07 15:44:18 [\u001B[92mINFO\u001B[0m] kj_logger.update_config: <kj_logger.LogManager object at 0x000001B9F8C97450> initialized - update_config! Code: 000\n",
      "2025-05-07 15:44:18 [\u001B[93mWARNING\u001B[0m] kj_core.core_config.set_working_directory: The directory C:\\kyellsen\\005_Projekte\\2022_Bosau\\030_Analysen\\2022_Kronensicherung_Bosau_2024-02-06\\working_directory\\tms already exists.\n",
      "2025-05-07 15:44:18 [\u001B[92mINFO\u001B[0m] kj_core.core_config.set_working_directory: Working directory set to C:\\kyellsen\\005_Projekte\\2022_Bosau\\030_Analysen\\2022_Kronensicherung_Bosau_2024-02-06\\working_directory\\tms!\n",
      "2025-05-07 15:44:18 [\u001B[92mINFO\u001B[0m] kj_core.core_config.__init__: <CoreConfig>\n",
      "  Package:            treemotion\n",
      "  Working Directory:  C:\\kyellsen\\005_Projekte\\2022_Bosau\\030_Analysen\\2022_Kronensicherung_Bosau_2024-02-06\\working_directory\\tms\n",
      "  Plot Directory:     C:\\kyellsen\\005_Projekte\\2022_Bosau\\030_Analysen\\2022_Kronensicherung_Bosau_2024-02-06\\working_directory\\tms\\plots\n",
      "  Data Directory:     C:\\kyellsen\\005_Projekte\\2022_Bosau\\030_Analysen\\2022_Kronensicherung_Bosau_2024-02-06\\working_directory\\tms\\data\n",
      "  Database Directory: C:\\kyellsen\\005_Projekte\\2022_Bosau\\030_Analysen\\2022_Kronensicherung_Bosau_2024-02-06\\working_directory\\tms\\databases\n",
      " initialized! Code: 001\n",
      "2025-05-07 15:44:18 [\u001B[92mINFO\u001B[0m] treemotion.config.__init__: <CoreConfig>\n",
      "  Package:            treemotion\n",
      "  Working Directory:  C:\\kyellsen\\005_Projekte\\2022_Bosau\\030_Analysen\\2022_Kronensicherung_Bosau_2024-02-06\\working_directory\\tms\n",
      "  Plot Directory:     C:\\kyellsen\\005_Projekte\\2022_Bosau\\030_Analysen\\2022_Kronensicherung_Bosau_2024-02-06\\working_directory\\tms\\plots\n",
      "  Data Directory:     C:\\kyellsen\\005_Projekte\\2022_Bosau\\030_Analysen\\2022_Kronensicherung_Bosau_2024-02-06\\working_directory\\tms\\data\n",
      "  Database Directory: C:\\kyellsen\\005_Projekte\\2022_Bosau\\030_Analysen\\2022_Kronensicherung_Bosau_2024-02-06\\working_directory\\tms\\databases\n",
      " initialized! Code: 002\n",
      "2025-05-07 15:44:18 [\u001B[92mINFO\u001B[0m] treemotion.setup: tms: Setup treemotion package!\n",
      "2025-05-07 15:44:18 [\u001B[92mINFO\u001B[0m] kj_core.utils.data_manager.__init__: <DataManager>\n",
      "  Data Directory:     C:\\kyellsen\\005_Projekte\\2022_Bosau\\030_Analysen\\2022_Kronensicherung_Bosau_2024-02-06\\working_directory\\tms\\data\n",
      "  From Config:        Config\n",
      " initialized! Code: 003\n",
      "2025-05-07 15:44:18 [\u001B[92mINFO\u001B[0m] kj_core.utils.data_manager.register_listeners: Successfully registered listeners: '[<class 'treemotion.classes.data_wind_station.DataWindStation'>, <class 'treemotion.classes.data_tms.DataTMS'>, <class 'treemotion.classes.data_merge.DataMerge'>, <class 'treemotion.classes.data_ls3.DataLS3'>]'\n",
      "2025-05-07 15:44:18 [\u001B[92mINFO\u001B[0m] kj_core.utils.database_manager.__init__: <DatabaseManager>\n",
      "  Database Directory: C:\\kyellsen\\005_Projekte\\2022_Bosau\\030_Analysen\\2022_Kronensicherung_Bosau_2024-02-06\\working_directory\\tms\\databases\n",
      "  Connected DB Name:  —\n",
      "  Engine Created:     No\n",
      "  Session Active:     No\n",
      "  From Config:        Config\n",
      " initialized! Code: 004\n",
      "2025-05-07 15:44:18 [\u001B[92mINFO\u001B[0m] kj_core.utils.plot_manager.__init__: <PlotManager>\n",
      "  Plot Directory:    C:\\kyellsen\\005_Projekte\\2022_Bosau\\030_Analysen\\2022_Kronensicherung_Bosau_2024-02-06\\working_directory\\tms\\plots\n",
      "  DPI:               300\n",
      "  Figure Size:       (8, 6)\n",
      "  Seaborn Style:     'whitegrid'\n",
      "  Color Palette:     'bright'\n",
      "  Grid Enabled:      True\n",
      "  Wide Format:       True\n",
      "  From Config:       Config\n",
      " initialized! Code: 005\n",
      "2025-05-07 15:44:18 [\u001B[92mINFO\u001B[0m] treemotion.setup: tms: treemotion setup completed.\n"
     ]
    }
   ],
   "source": [
    "CONFIG, LOG_MANAGER, DATA_MANAGER, DATABASE_MANAGER, PLOT_MANAGER = tms.setup(\n",
    "        working_directory=str(working_directory), log_level=\"DEBUG\")"
   ],
   "metadata": {
    "collapsed": false,
    "ExecuteTime": {
     "end_time": "2025-05-07T13:44:18.574859300Z",
     "start_time": "2025-05-07T13:44:18.297798400Z"
    }
   },
   "id": "a8a78ee38ce633d6"
  },
  {
   "cell_type": "markdown",
   "source": [
    "### Lade Metadaten zum Versuch (Sensorpositionierung, Versuchsprotokoll/Messablauf, Baumdaten)\n",
    "\n",
    "Die Daten wurden während des Versuchs in einer SQLite-Datenbank gesammelt und strukturiert. Teilweise wurden Tabellen aus GoogleSheets manuell eingepflegt, da kletternd im Baum eine Erfassung in solchen deutlich anwenderfreundlicher ist.\n",
    "Die Datenbank ist damit die zentrale stelle für alle Metadaten des Feldversuchs in Bosau.\n",
    "Änderungen an der Ausgangs-Datenbank sollen vermieden werden - sie wird entsprechend einmalig ins 'working_directory' kopiert. Die weitere Analyse erfolgt dann auf der Kopie der Datenbank\n",
    "Es folgt die Verbindung mit der Datenbank und die Erstellung einer 'Project'-Instance. Innerhalb des Projektes können dann bestimmte Messreihen ('Series') und Messungen ('Measurement')."
   ],
   "metadata": {
    "collapsed": false
   },
   "id": "c835d144d969dc1b"
  },
  {
   "cell_type": "code",
   "execution_count": 5,
   "outputs": [
    {
     "name": "stderr",
     "output_type": "stream",
     "text": [
      "2025-05-07 15:44:18 [\u001B[92mINFO\u001B[0m] kj_core.utils.database_manager.duplicate: Database TREEMOTION_Bosau_2023-05-12.db duplicated to C:\\kyellsen\\005_Projekte\\2022_Bosau\\030_Analysen\\2022_Kronensicherung_Bosau_2024-02-06\\working_directory\\tms\\databases\\TREEMOTION_Bosau_2023-05-12.db\n"
     ]
    }
   ],
   "source": [
    "DATABASE_MANAGER.duplicate(database_path=str(source_db)) # Only call ones"
   ],
   "metadata": {
    "collapsed": false,
    "ExecuteTime": {
     "end_time": "2025-05-07T13:44:19.452367Z",
     "start_time": "2025-05-07T13:44:18.353828300Z"
    }
   },
   "id": "fa7921d9b6e62360"
  },
  {
   "cell_type": "code",
   "execution_count": 6,
   "outputs": [
    {
     "name": "stderr",
     "output_type": "stream",
     "text": [
      "2025-05-07 15:44:18 [\u001B[92mINFO\u001B[0m] kj_core.utils.database_manager.connect: Connecting to existing database at C:\\kyellsen\\005_Projekte\\2022_Bosau\\030_Analysen\\2022_Kronensicherung_Bosau_2024-02-06\\working_directory\\tms\\databases\\TREEMOTION_Bosau_2023-05-12.db\n",
      "2025-05-07 15:44:18 [\u001B[92mINFO\u001B[0m] kj_core.utils.database_manager.connect: Successfully connected!\n",
      "2025-05-07 15:44:18 [\u001B[94mDEBUG\u001B[0m] kj_core.utils.database_manager.load: Prozess instance of 'Project' with primary key '1'\n",
      "2025-05-07 15:44:19 [\u001B[92mINFO\u001B[0m] kj_core.utils.database_manager.load: Loading successful '1' instances of class Project.\n",
      "2025-05-07 15:44:19 [\u001B[94mDEBUG\u001B[0m] kj_core.utils.database_manager.load: Prozess instance of 'Series' with primary key '1'\n",
      "2025-05-07 15:44:19 [\u001B[92mINFO\u001B[0m] kj_core.utils.database_manager.load: Loading successful '1' instances of class Series.\n"
     ]
    }
   ],
   "source": [
    "DATABASE_MANAGER.connect(db_name=str(db_name))\n",
    "project_1 = DATABASE_MANAGER.load(Project, 1)[0]\n",
    "series_1: Series = DATABASE_MANAGER.load(Series, 1)[0]\n",
    "m_1: Measurement = series_1.measurement[0]"
   ],
   "metadata": {
    "collapsed": false,
    "ExecuteTime": {
     "end_time": "2025-05-07T13:44:19.678002Z",
     "start_time": "2025-05-07T13:44:18.395378Z"
    }
   },
   "id": "a717031fad0c0fa9"
  },
  {
   "cell_type": "markdown",
   "source": [
    "Die Messdaten der TreeMotionSensoren wurden von den Geräten gesichert und aus der \"TMS.Software\" als CSV-Dateien exportiert. Die spätere Zuordnung erfolg entsprechend über die Messreihe (Series) und die SensorID. Hierzu steht im Package die Methode 'Series.add_filenames()' zur Verfügung. Sofern in der Datenbank für jeden 'Series' der richtige 'filepath_tms' zum Verzeichnis der zugehörigen TMS.csv-Dateien hinterlegt ist, ordnet Sie die Dateien richtig den Messungen zu.\n",
    "Sie Methode wird nachfolgend für die Messreihe 1 aufgerufen. Die Methode 'Measurement.create_from_csv' liest dann die CSV-Daten ein und erstellt eine Version der Daten der Messung. Eine Messung kann entsprechend in verschiedenen Verarbeitungszuständen abgespeichert werden. Die Messdaten werden nachfolgend intern nicht in der Datenbank, sondern als .feather-Dateien mit Referenz in der Datenbank gespeichert (deutlich effizienter als CSV-Dateien).\n"
   ],
   "metadata": {
    "collapsed": false
   },
   "id": "91b60649d596a8ef"
  },
  {
   "cell_type": "code",
   "execution_count": 7,
   "outputs": [
    {
     "name": "stderr",
     "output_type": "stream",
     "text": [
      "2025-05-07 15:44:19 [\u001B[92mINFO\u001B[0m] kj_core.utils.path_utils.validate_and_get_file_list: Found files: ['2022-01-29 020000__DatasA000-0000-0007', '2022-01-29 020000__DatasA000-0000-0008', '2022-01-29 020000__DatasA000-0000-0010', '2022-01-29 020000__DatasA000-0000-0011', '2022-01-29 020000__DatasA000-0000-0012', '2022-01-29 020000__DatasA000-0000-0013', '2022-01-29 020000__DatasA000-0000-0014', '2022-01-29 020000__DatasA000-0000-0015', '2022-01-29 020000__DatasA000-0000-0016', '2022-01-29 020000__DatasTI0000000027', '2022-01-29 020000__DatasTI0000000075', '2022-01-29 020000__DatasTI0000000076', '2022-01-29 020000__DatasTI0000000077', '2022-01-29 020000__DatasTI0000000078', '2022-01-29 020000__DatasTI0000000080', '2022-01-29 020000__DatasTI0000000082', '2022-01-29 020000__DatasTI0000000083', '2022-01-29 020000__DatasTI0000000084', '2022-01-29 020000__DatasTI0000000085']\n",
      "2025-05-07 15:44:19 [\u001B[92mINFO\u001B[0m] kj_core.utils.path_utils.extract_sensor_id: Extracted sensor IDs: [7, 8, 10, 11, 12, 13, 14, 15, 16, 27, 75, 76, 77, 78, 80, 82, 83, 84, 85]\n",
      "2025-05-07 15:44:19 [\u001B[94mDEBUG\u001B[0m] kj_core.utils.database_manager.commit: Starting to commit changes to Database:\n",
      "2025-05-07 15:44:19 [\u001B[94mDEBUG\u001B[0m] kj_core.utils.database_manager.commit: Transaction committed.\n",
      "2025-05-07 15:44:19 [\u001B[92mINFO\u001B[0m] treemotion.classes.series.add_filenames: Updated filenames for 19 out of 19 measurements.\n",
      "2025-05-07 15:44:19 [\u001B[94mDEBUG\u001B[0m] kj_core.utils.runtime_manager.wrapper:  ----------------- [Runtime]0.1407 secs, Series.add_filenames[Runtime]  ----------------- \n"
     ]
    }
   ],
   "source": [
    "series_1.add_filenames(csv_path=csv_path)\n",
    "# series_1.method_for_all_of_class(\"Measurement\", \"load_from_csv\", measurement_version_name=\"raw\", update_existing=True)"
   ],
   "metadata": {
    "collapsed": false,
    "ExecuteTime": {
     "end_time": "2025-05-07T13:44:19.882451500Z",
     "start_time": "2025-05-07T13:44:19.471504800Z"
    }
   },
   "id": "d575b3bc20101da0"
  },
  {
   "cell_type": "code",
   "execution_count": 8,
   "outputs": [
    {
     "data": {
      "text/plain": "                                  min         mean     max         std Einheit\nUmfang                          217.0   234.900000   258.0   11.376877      cm\nHöhe (ca.)                     2200.0  2200.000000  2200.0    0.000000      cm\nVergabelungshöhe                316.0   387.700000   510.0   55.643808      cm\nHöhe KS                        1481.0  1611.636364  1746.0  100.477134      cm\nLänge KS                        136.0   218.090909   290.0   41.810177      cm\nUmfang Stämmlinge auf Höhe KS    47.0    56.181818    70.0    6.932576      cm",
      "text/html": "<div>\n<style scoped>\n    .dataframe tbody tr th:only-of-type {\n        vertical-align: middle;\n    }\n\n    .dataframe tbody tr th {\n        vertical-align: top;\n    }\n\n    .dataframe thead th {\n        text-align: right;\n    }\n</style>\n<table border=\"1\" class=\"dataframe\">\n  <thead>\n    <tr style=\"text-align: right;\">\n      <th></th>\n      <th>min</th>\n      <th>mean</th>\n      <th>max</th>\n      <th>std</th>\n      <th>Einheit</th>\n    </tr>\n  </thead>\n  <tbody>\n    <tr>\n      <th>Umfang</th>\n      <td>217.0</td>\n      <td>234.900000</td>\n      <td>258.0</td>\n      <td>11.376877</td>\n      <td>cm</td>\n    </tr>\n    <tr>\n      <th>Höhe (ca.)</th>\n      <td>2200.0</td>\n      <td>2200.000000</td>\n      <td>2200.0</td>\n      <td>0.000000</td>\n      <td>cm</td>\n    </tr>\n    <tr>\n      <th>Vergabelungshöhe</th>\n      <td>316.0</td>\n      <td>387.700000</td>\n      <td>510.0</td>\n      <td>55.643808</td>\n      <td>cm</td>\n    </tr>\n    <tr>\n      <th>Höhe KS</th>\n      <td>1481.0</td>\n      <td>1611.636364</td>\n      <td>1746.0</td>\n      <td>100.477134</td>\n      <td>cm</td>\n    </tr>\n    <tr>\n      <th>Länge KS</th>\n      <td>136.0</td>\n      <td>218.090909</td>\n      <td>290.0</td>\n      <td>41.810177</td>\n      <td>cm</td>\n    </tr>\n    <tr>\n      <th>Umfang Stämmlinge auf Höhe KS</th>\n      <td>47.0</td>\n      <td>56.181818</td>\n      <td>70.0</td>\n      <td>6.932576</td>\n      <td>cm</td>\n    </tr>\n  </tbody>\n</table>\n</div>"
     },
     "execution_count": 8,
     "metadata": {},
     "output_type": "execute_result"
    }
   ],
   "source": [
    "session = DATABASE_MANAGER.session\n",
    "\n",
    "# Abfragen aller Daten aus der Tabelle 'Tree'\n",
    "tree_data = session.query(Tree).all()\n",
    "\n",
    "# Abfragen aller Daten aus der Tabelle 'TreeCable'\n",
    "tree_cable_data = session.query(TreeCable).all()\n",
    "\n",
    "# Erstellen eines DataFrames aus den abgefragten Daten für 'Tree'\n",
    "tree_df = pd.DataFrame([{\n",
    "    'Umfang': tree.circumference,\n",
    "    'Höhe (ca.)': tree.height,\n",
    "    'Vergabelungshöhe': tree.fork_height\n",
    "} for tree in tree_data])\n",
    "\n",
    "# Erstellen eines DataFrames aus den abgefragten Daten für 'TreeCable'\n",
    "tree_cable_df = pd.DataFrame([{\n",
    "    'Höhe KS': cable.height,\n",
    "    'Länge KS': cable.length,\n",
    "    'Umfang Stämmlinge A auf Höhe KS': cable.trunk_a_circumference,\n",
    "    'Umfang Stämmlinge B auf Höhe KS': cable.trunk_b_circumference\n",
    "} for cable in tree_cable_data])\n",
    "\n",
    "# Kombinieren der Umfänge von Stämmen A und B in einer gemeinsamen Serie\n",
    "combined_circumference = pd.concat([\n",
    "    tree_cable_df['Umfang Stämmlinge A auf Höhe KS'], \n",
    "    tree_cable_df['Umfang Stämmlinge B auf Höhe KS']\n",
    "])\n",
    "\n",
    "metrics = ['min', 'mean', 'max', 'std']\n",
    "\n",
    "# Statistische Auswertungen für die kombinierten Umfänge\n",
    "circumference_statistics = combined_circumference.agg(metrics)\n",
    "circumference_statistics = pd.DataFrame(circumference_statistics).transpose()\n",
    "circumference_statistics.index = ['Umfang Stämmlinge auf Höhe KS']\n",
    "\n",
    "# Statistische Auswertungen für die Spalten in 'Tree' DataFrame\n",
    "tree_statistics = tree_df.agg(metrics).transpose()\n",
    "\n",
    "# Statistische Auswertungen für die anderen Spalten in 'TreeCable' DataFrame\n",
    "tree_cable_statistics = tree_cable_df[['Höhe KS', 'Länge KS']].agg(metrics).transpose()\n",
    "\n",
    "# Zusammenführen der Statistiken in einem DataFrame\n",
    "combined_statistics = pd.concat([tree_statistics, tree_cable_statistics, circumference_statistics])\n",
    "combined_statistics[\"Einheit\"] = \"cm\"\n",
    "\n",
    "combined_statistics"
   ],
   "metadata": {
    "collapsed": false,
    "ExecuteTime": {
     "end_time": "2025-05-07T13:44:20.012968100Z",
     "start_time": "2025-05-07T13:44:19.641432300Z"
    }
   },
   "id": "e780258ba013e79d"
  },
  {
   "cell_type": "code",
   "execution_count": 9,
   "outputs": [
    {
     "name": "stdout",
     "output_type": "stream",
     "text": [
      "\n",
      "\\begin{table}[h]\n",
      "    \\centering\n",
      "    \\begin{tabular}{lrrrrr}\n",
      "\\toprule\n",
      " & Min. & Mean & Max. & Std. & Einheit \\\\\n",
      "\\midrule\n",
      "Umfang & 217.00 & 234.90 & 258.00 & 11.38 & cm \\\\\n",
      "Höhe (ca.) & 2200.00 & 2200.00 & 2200.00 & 0.00 & cm \\\\\n",
      "Vergabelungshöhe & 316.00 & 387.70 & 510.00 & 55.64 & cm \\\\\n",
      "Höhe KS & 1481.00 & 1611.64 & 1746.00 & 100.48 & cm \\\\\n",
      "Länge KS & 136.00 & 218.09 & 290.00 & 41.81 & cm \\\\\n",
      "Umfang Stämmlinge auf Höhe KS & 47.00 & 56.18 & 70.00 & 6.93 & cm \\\\\n",
      "\\bottomrule\n",
      "\\end{tabular}\n",
      "\n",
      "    \\caption{Feldversuch 1 - Daten der Versuchsbäume}\n",
      "    \\label{tab:Feldversuch_1_Versuchsbäume}\n",
      "\\end{table}\n"
     ]
    }
   ],
   "source": [
    "# Umwandlung der statistischen Auswertung in LaTeX\n",
    "latex_string = combined_statistics.to_latex(index=True, escape=True, column_format=\"lrrrrr\", header=[\"Min.\", \"Mean\", \"Max.\", \"Std.\", \"Einheit\"], \n",
    "                                            float_format=\"{:0.2f}\".format)\n",
    "\n",
    "# LaTeX Tabellen-String formatieren\n",
    "latex_table = f\"\"\"\n",
    "\\\\begin{{table}}[h]\n",
    "    \\\\centering\n",
    "    {latex_string}\n",
    "    \\\\caption{{Feldversuch 1 - Daten der Versuchsbäume}}\n",
    "    \\\\label{{tab:Feldversuch_1_Versuchsbäume}}\n",
    "\\\\end{{table}}\n",
    "\"\"\"\n",
    "\n",
    "print(latex_table)"
   ],
   "metadata": {
    "collapsed": false,
    "ExecuteTime": {
     "end_time": "2025-05-07T13:44:20.364551700Z",
     "start_time": "2025-05-07T13:44:19.763144300Z"
    }
   },
   "id": "a16b7cb15f772cd6"
  },
  {
   "cell_type": "code",
   "execution_count": 9,
   "outputs": [],
   "source": [
    "series_1.add_wind_station(\"06163\", filename_wind=filename_wind, filename_wind_extreme=filename_wind_extreme,\n",
    "                            update_existing=True)"
   ],
   "metadata": {
    "collapsed": false,
    "ExecuteTime": {
     "end_time": "2025-05-07T13:44:20.364551700Z",
     "start_time": "2025-05-07T13:44:20.085368800Z"
    }
   },
   "id": "cb7b23ea757cca52"
  },
  {
   "cell_type": "markdown",
   "source": [],
   "metadata": {
    "collapsed": false
   },
   "id": "8994c7d168372306"
  }
 ],
 "metadata": {
  "kernelspec": {
   "display_name": "Python 3",
   "language": "python",
   "name": "python3"
  },
  "language_info": {
   "codemirror_mode": {
    "name": "ipython",
    "version": 2
   },
   "file_extension": ".py",
   "mimetype": "text/x-python",
   "name": "python",
   "nbconvert_exporter": "python",
   "pygments_lexer": "ipython2",
   "version": "2.7.6"
  }
 },
 "nbformat": 4,
 "nbformat_minor": 5
}
